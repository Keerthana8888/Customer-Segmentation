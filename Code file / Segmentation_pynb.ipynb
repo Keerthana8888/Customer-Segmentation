{
  "nbformat": 4,
  "nbformat_minor": 0,
  "metadata": {
    "colab": {
      "private_outputs": true,
      "provenance": [],
      "authorship_tag": "ABX9TyOQUzSiycMp3c8KsmqO2p5e",
      "include_colab_link": true
    },
    "kernelspec": {
      "name": "python3",
      "display_name": "Python 3"
    },
    "language_info": {
      "name": "python"
    }
  },
  "cells": [
    {
      "cell_type": "markdown",
      "metadata": {
        "id": "view-in-github",
        "colab_type": "text"
      },
      "source": [
        "<a href=\"https://colab.research.google.com/github/Keerthana8888/Customer-Segmentation/blob/main/Code%20file%20/%20Segmentation_pynb.ipynb\" target=\"_parent\"><img src=\"https://colab.research.google.com/assets/colab-badge.svg\" alt=\"Open In Colab\"/></a>"
      ]
    },
    {
      "cell_type": "markdown",
      "source": [
        "# Load Libraries And Dataset\n"
      ],
      "metadata": {
        "id": "Dr7cjHcDwRcQ"
      }
    },
    {
      "cell_type": "code",
      "execution_count": null,
      "metadata": {
        "id": "Uw2kS244mx34"
      },
      "outputs": [],
      "source": [
        "# Import the libraries\n",
        "import pandas as pd\n",
        "import numpy as np\n",
        "import matplotlib.pyplot as plt\n",
        "import seaborn as sns\n",
        "from sklearn.preprocessing import MinMaxScaler\n",
        "from sklearn.cluster import KMeans , AgglomerativeClustering\n",
        "from sklearn.metrics import silhouette_score\n",
        "from sklearn.preprocessing import LabelEncoder\n",
        "from scipy.cluster.hierarchy import linkage , dendrogram\n",
        "import warnings\n",
        "warnings.simplefilter(action = 'ignore')"
      ]
    },
    {
      "cell_type": "code",
      "source": [
        "dataset = pd.read_excel('/content/Online Retail.xlsx')  # Read the dataset"
      ],
      "metadata": {
        "id": "bEYo-OkpwdHI"
      },
      "execution_count": null,
      "outputs": []
    },
    {
      "cell_type": "code",
      "source": [
        "dataset.info() # Check information"
      ],
      "metadata": {
        "id": "W0-PHoO0xctY"
      },
      "execution_count": null,
      "outputs": []
    },
    {
      "cell_type": "code",
      "source": [
        "dataset.isnull().sum()  # Check for missing values"
      ],
      "metadata": {
        "id": "J1Fm7S1Sxw2M"
      },
      "execution_count": null,
      "outputs": []
    },
    {
      "cell_type": "code",
      "source": [
        "dataset.dropna(inplace=True) # drop rows with any missing values"
      ],
      "metadata": {
        "id": "WTkPF859x0Kb"
      },
      "execution_count": null,
      "outputs": []
    },
    {
      "cell_type": "code",
      "source": [
        "dataset.info() # recheck"
      ],
      "metadata": {
        "id": "kZ95r-efyAzq"
      },
      "execution_count": null,
      "outputs": []
    },
    {
      "cell_type": "markdown",
      "source": [
        "# K-Means Clustering"
      ],
      "metadata": {
        "id": "5NxnVuwlyTPt"
      }
    },
    {
      "cell_type": "code",
      "source": [
        "# RFM feature engineering\n",
        "# get the total price of each order\n",
        "dataset['TotalPrice'] = dataset['Quantity'] * dataset['UnitPrice']\n",
        "\n",
        "# create customer dataset and features\n",
        "customer_dataset = dataset.groupby('CustomerID').agg({'InvoiceDate': lambda x: (dataset['InvoiceDate'].max() - x.max()).days,\n",
        "                                            'InvoiceNo': 'count',\n",
        "                                            'TotalPrice': 'sum'})\n",
        "\n",
        "# rename the features\n",
        "customer_dataset.rename(columns={'InvoiceDate': 'recency',\n",
        "                            'InvoiceNo': 'frequency',\n",
        "                            'TotalPrice': 'monetary'}, inplace=True)\n",
        "\n",
        "customer_dataset.info()"
      ],
      "metadata": {
        "id": "YhefYsuQyGVe"
      },
      "execution_count": null,
      "outputs": []
    },
    {
      "cell_type": "code",
      "source": [
        "customer_dataset.sample(10)"
      ],
      "metadata": {
        "id": "R3LdEFEsyalz"
      },
      "execution_count": null,
      "outputs": []
    },
    {
      "cell_type": "code",
      "source": [
        "customer_dataset.describe()"
      ],
      "metadata": {
        "id": "_CUUkK3sywEw"
      },
      "execution_count": null,
      "outputs": []
    },
    {
      "cell_type": "code",
      "source": [
        "sns.pairplot(customer_dataset)"
      ],
      "metadata": {
        "id": "h1oa9Yabyz1S"
      },
      "execution_count": null,
      "outputs": []
    },
    {
      "cell_type": "code",
      "source": [
        "# We choose to use minmaxscaler because we are mostly looking to normalize the data and not looking for a mean equal to zero.\n",
        "scaler = MinMaxScaler()\n",
        "\n",
        "norm_customer = scaler.fit_transform(customer_dataset)\n",
        "\n",
        "print(norm_customer)"
      ],
      "metadata": {
        "id": "BiN4enrYy2mz"
      },
      "execution_count": null,
      "outputs": []
    },
    {
      "cell_type": "code",
      "source": [
        "# fit model with different num of clsuters\n",
        "sse = []\n",
        "for k in range(1, 11):\n",
        "    kmeans = KMeans(n_clusters=k, n_init=10, random_state=33)\n",
        "    kmeans.fit(norm_customer)\n",
        "    sse.append(kmeans.inertia_) # sse of the centroid of cluster\n",
        "\n",
        "# create sse elbow plot\n",
        "plt.plot(range(1, 11), sse, marker='o')\n",
        "plt.title('Elbow plot')\n",
        "plt.xlabel('n_clusters')\n",
        "plt.ylabel('sse')"
      ],
      "metadata": {
        "id": "oEjKQBAoy9Dn"
      },
      "execution_count": null,
      "outputs": []
    },
    {
      "cell_type": "code",
      "source": [
        "# create the final kmeans model\n",
        "fin_kmeans = KMeans(n_clusters=4, n_init=10, random_state=33)\n",
        "\n",
        "fin_kmeans.fit(norm_customer)"
      ],
      "metadata": {
        "id": "gB9iN4kpzCG-"
      },
      "execution_count": null,
      "outputs": []
    },
    {
      "cell_type": "code",
      "source": [
        "fin_dataset = pd.DataFrame(norm_customer, columns=customer_dataset.columns, index=customer_dataset.index)\n",
        "\n",
        "fin_dataset['cluster'] = fin_kmeans.labels_\n",
        "fin_dataset"
      ],
      "metadata": {
        "id": "X9tKXIFpzLAT"
      },
      "execution_count": null,
      "outputs": []
    },
    {
      "cell_type": "code",
      "source": [
        "cluster_mean = fin_dataset.groupby('cluster')[['recency', 'frequency', 'monetary']].mean().reset_index()\n",
        "\n",
        "fig, axes = plt.subplots(nrows=3, figsize=(4, 6))\n",
        "\n",
        "sns.barplot(cluster_mean, x='cluster', y='recency', ax=axes[0])\n",
        "sns.barplot(cluster_mean, x='cluster', y='frequency', ax=axes[1])\n",
        "sns.barplot(cluster_mean, x='cluster', y='monetary', ax=axes[2])\n",
        "\n",
        "plt.tight_layout()"
      ],
      "metadata": {
        "id": "br7O1cq-zNlV"
      },
      "execution_count": null,
      "outputs": []
    },
    {
      "cell_type": "code",
      "source": [
        "fin_dataset['cluster'].value_counts()"
      ],
      "metadata": {
        "id": "9OfGyE-SzigR"
      },
      "execution_count": null,
      "outputs": []
    },
    {
      "cell_type": "markdown",
      "source": [
        "# Hierarchical Clustering"
      ],
      "metadata": {
        "id": "N5Sw3ePHzoU8"
      }
    },
    {
      "cell_type": "code",
      "source": [
        "merging = linkage(norm_customer, method='ward')\n",
        "dendrogram(merging, leaf_rotation=90)\n",
        "plt.xlabel('Data Points')\n",
        "plt.ylabel('Euclidean distance')\n",
        "plt.show()"
      ],
      "metadata": {
        "id": "mG9tc97FzmsD"
      },
      "execution_count": null,
      "outputs": []
    },
    {
      "cell_type": "code",
      "source": [
        "hc = AgglomerativeClustering(n_clusters=3, metric='euclidean', linkage='ward')\n",
        "cluster_hc = hc.fit_predict(norm_customer)"
      ],
      "metadata": {
        "id": "hoC99L6lz1CQ"
      },
      "execution_count": null,
      "outputs": []
    },
    {
      "cell_type": "code",
      "source": [
        "with_hc_dataset = pd.DataFrame(norm_customer, columns=customer_dataset.columns, index=customer_dataset.index)\n",
        "with_hc_dataset['cluster'] = cluster_hc\n",
        "with_hc_dataset.head()"
      ],
      "metadata": {
        "id": "wu1LKeq70lkI"
      },
      "execution_count": null,
      "outputs": []
    },
    {
      "cell_type": "code",
      "source": [
        "with_hc_dataset['cluster'].value_counts(ascending=True)"
      ],
      "metadata": {
        "id": "srkYPWl-0y7x"
      },
      "execution_count": null,
      "outputs": []
    },
    {
      "cell_type": "code",
      "source": [
        "cluster_mean = with_hc_dataset.groupby('cluster')[['recency', 'frequency', 'monetary']].mean().reset_index()\n",
        "\n",
        "fig, axes = plt.subplots(nrows=3, figsize=(4, 6))\n",
        "\n",
        "sns.barplot(cluster_mean, x='cluster', y='recency', ax=axes[0])\n",
        "sns.barplot(cluster_mean, x='cluster', y='frequency', ax=axes[1])\n",
        "sns.barplot(cluster_mean, x='cluster', y='monetary', ax=axes[2])\n",
        "\n",
        "plt.show()"
      ],
      "metadata": {
        "id": "GmNFrTA51EtA"
      },
      "execution_count": null,
      "outputs": []
    }
  ]
}